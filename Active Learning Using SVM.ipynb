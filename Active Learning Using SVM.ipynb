{
 "cells": [
  {
   "cell_type": "code",
   "execution_count": 1,
   "id": "b20ff99e",
   "metadata": {},
   "outputs": [],
   "source": [
    "import numpy as np\n",
    "import pandas as pd\n",
    "import statistics\n",
    "import warnings\n",
    "from sklearn import svm, metrics\n",
    "from sklearn.svm import SVC, LinearSVC\n",
    "from sklearn.model_selection import train_test_split, RandomizedSearchCV\n",
    "from matplotlib import pyplot as plt\n",
    "from statistics import mean"
   ]
  },
  {
   "cell_type": "markdown",
   "id": "ab328e2b",
   "metadata": {},
   "source": [
    "2.\n",
    "Active Learning Using Support Vector Machines\n",
    "\n",
    "(a)\n",
    "Download the banknote authentication Data Set from:\n",
    "https://archive.ics.\n",
    "uci.edu/ml/datasets/banknote+authentication\n",
    ". Choose 472 data points ran-\n",
    "domly as the test set, and the remaining 900 points as the training set. This is a\n",
    "binary classification problem"
   ]
  },
  {
   "cell_type": "code",
   "execution_count": 3,
   "id": "4f4ff976",
   "metadata": {},
   "outputs": [
    {
     "name": "stdout",
     "output_type": "stream",
     "text": [
      "(900, 5) (472, 5)\n"
     ]
    }
   ],
   "source": [
    "fn = \"../data/data_banknote_authentication.txt\"\n",
    "df = pd.read_csv(fn, sep=\",\", header = None, \n",
    "                names = [\"Variance\", \"Skewness\", \"Curtosis\",\"Entropy\",\"Class\"])\n",
    "Train,Test = train_test_split(df, test_size = 472, random_state = None)\n",
    "print (Train.shape, Test.shape)\n",
    "warnings.simplefilter('ignore', UserWarning)\n",
    "Y_test = Test.iloc[:,-1:]"
   ]
  },
  {
   "cell_type": "code",
   "execution_count": 4,
   "id": "b8654775",
   "metadata": {},
   "outputs": [],
   "source": [
    "def L1_pen_Random(X,y):\n",
    "    C_range = np.arange(2,10,2)\n",
    "    param_grid = dict(C=C_range)\n",
    "    randclf = RandomizedSearchCV(svm.LinearSVC(penalty = 'l1', dual = False, max_iter = 1000),param_grid, cv = 5)\n",
    "    randclf.fit(X,y)\n",
    "    return randclf.best_params_"
   ]
  },
  {
   "cell_type": "markdown",
   "id": "33b12675",
   "metadata": {},
   "source": [
    "(b)\n",
    "Repeat each of the following two procedures 50 times. You will have 50 errors for\n",
    "90 SVMs per each procedure."
   ]
  },
  {
   "cell_type": "code",
   "execution_count": 10,
   "id": "34c955aa",
   "metadata": {
    "scrolled": true
   },
   "outputs": [],
   "source": [
    "#PAssinve Learning\n",
    "mc = []\n",
    "warnings.filterwarnings(\"ignore\")\n",
    "for i in range (50):\n",
    "    Train_nn = Train.copy(deep=True)\n",
    "    adding = pd.DataFrame()\n",
    "    ac=[]\n",
    "    \n",
    "    for j in range (100):\n",
    "        try:\n",
    "            deducting = Train_nn.sample(10)\n",
    "            for i in deducting.index:\n",
    "                Train_nn = Train_nn.drop([i])       #drop randomly selected 10 data points\n",
    "            adding = pd.concat([adding,deducting])\n",
    "\n",
    "            partX_train = adding.iloc[:,:-1]\n",
    "            partY_train = adding.iloc[:,-1:]\n",
    "\n",
    "            best_params = L1_pen_Random(partX_train, partY_train.values.ravel())\n",
    "\n",
    "            clf = svm.LinearSVC(penalty = 'l1',dual=False, max_iter = 10000, C = best_params['C'])\n",
    "            clf.fit(partX_train, partY_train)\n",
    "            Y_pred = clf.predict(partX_train)\n",
    "            acc = acc = clf.score(partX_train, partY_train)\n",
    "            ac.append(acc)\n",
    "        except:\n",
    "            pass\n",
    "\n",
    "    test_error = []\n",
    "    for i in ac:\n",
    "        test_err = 1-i\n",
    "        test_error.append(test_err)\n",
    "    mc.append(test_error)\n",
    "\n",
    "#mc will have a 50 sets of 90 test errors"
   ]
  },
  {
   "cell_type": "code",
   "execution_count": 34,
   "id": "a73a3026",
   "metadata": {},
   "outputs": [],
   "source": [
    "#Active Learning\n",
    "active_mc = []\n",
    "Y_test = Test.iloc[:,-1:]\n",
    "warnings.filterwarnings(\"ignore\")\n",
    "mcrun = 0\n",
    "#Monte Carlo\n",
    "while mcrun != 50:\n",
    "    Train_n = Train.copy(deep=True)\n",
    "    adding = pd.DataFrame()\n",
    "    ac=[]\n",
    "\n",
    "    #Sample 10 data points from trainging\n",
    "#     deducting = Train_n.sample(10) -- random selection gives an error so randomly select one of each classand eight\n",
    "\n",
    "    try:\n",
    "        onee = Train_n.Class[Train_n.Class.eq(0)].sample(1).index\n",
    "        twoo = Train_n.Class[Train_n.Class.eq(1)].sample(1).index \n",
    "        each = Train_n.loc[onee.union(twoo)]\n",
    "        deducting = Train_n.sample(8)\n",
    "        deducting = pd.concat([each,deducting])\n",
    "\n",
    "        partX_train = deducting.iloc[:,:-1]\n",
    "        partY_train = deducting.iloc[:,-1:]\n",
    "\n",
    "        #Train the 10 data points\n",
    "        best_params = L1_pen_Random(partX_train, partY_train)\n",
    "        clf = svm.LinearSVC(penalty = 'l1',dual=False, max_iter = 10000, C = best_params['C'])\n",
    "        clf.fit(partX_train, partY_train)\n",
    "\n",
    "\n",
    "        #find CI for all data\n",
    "        Train_n = Train.copy(deep=True)\n",
    "        CI = clf.decision_function(Train_n.iloc[:,:-1])\n",
    "        absdist = np.abs(CI)\n",
    "        Train_n['CI'] = absdist\n",
    "\n",
    "\n",
    "        #deducting data frame : Train_nnn\n",
    "        Train_nnn = Train_n.sort_values(by=['CI'])\n",
    "\n",
    "        while Train_nnn.shape[0] != 0:\n",
    "                ten = Train_nnn.iloc[:10,:]\n",
    "                adding = pd.concat([adding, ten])    # concatenating the 10 data point to adding\n",
    "                #Assign X and Y\n",
    "                selX_train = adding.iloc[:,:-2]\n",
    "                selY_train = adding.iloc[:,-2:-1]\n",
    "\n",
    "                best_params = L1_pen_Random(selX_train, selY_train)\n",
    "                clf = svm.LinearSVC(penalty = 'l1',dual=False, max_iter = 10000, C = best_params['C'])\n",
    "                clf.fit(selX_train, selY_train)\n",
    "                Y_pred = clf.predict(selX_train)\n",
    "                acc = clf.score(selX_train, selY_train)\n",
    "                ac.append(acc)\n",
    "\n",
    "                Train_nnn = Train_nnn.iloc[10:,:]    # 10 closest data point dropped from Train_nnn\n",
    "\n",
    "    #Calculate Test Error\n",
    "        test_error = []\n",
    "        for i in ac:\n",
    "            test_err = 1-i\n",
    "            test_error.append(test_err)\n",
    "        active_mc.append(test_error)\n",
    "        mcrun = mcrun + 1\n",
    "\n",
    "    except:\n",
    "        pass\n"
   ]
  },
  {
   "cell_type": "code",
   "execution_count": 35,
   "id": "b7437075",
   "metadata": {},
   "outputs": [],
   "source": [
    "# Monte carlo for passive learning:\n",
    "avg_pass = []\n",
    "for i in range(len(mc)):\n",
    "    ag = mean(mc[i])\n",
    "    avg_pass.append(ag)\n",
    "# avg_pass\n",
    "\n",
    "# Monte carlo for active learning:\n",
    "avg_act = []\n",
    "for i in range(len(active_mc)):\n",
    "    ag = mean(active_mc[i])\n",
    "    avg_act.append(ag)"
   ]
  },
  {
   "cell_type": "code",
   "execution_count": 36,
   "id": "c43d6aba",
   "metadata": {},
   "outputs": [
    {
     "data": {
      "image/png": "[encoded data removed]",
      "text/plain": [
       "<Figure size 432x288 with 1 Axes>"
      ]
     },
     "metadata": {
      "needs_background": "light"
     },
     "output_type": "display_data"
    }
   ],
   "source": [
    "# Plot average test error versus number of training instances \n",
    "# for both active and passive learners on the same figure and report your conclusions\n",
    "\n",
    "xaxis = list(range(1,51))\n",
    "\n",
    "plt.plot(xaxis,avg_pass, label = \"Passive Learning\")\n",
    "plt.plot(xaxis,avg_act, label = \"Active Learning\")\n",
    "\n",
    "plt.xlabel('Number of Training Instances')\n",
    "plt.ylabel('Average Test Error')\n",
    "plt.title('Monte Carlo Visualiztion')\n",
    "\n",
    "plt.legend()\n",
    "plt.show()"
   ]
  }
 ],
 "metadata": {
  "kernelspec": {
   "display_name": "Python 3 (ipykernel)",
   "language": "python",
   "name": "python3"
  },
  "language_info": {
   "codemirror_mode": {
    "name": "ipython",
    "version": 3
   },
   "file_extension": ".py",
   "mimetype": "text/x-python",
   "name": "python",
   "nbconvert_exporter": "python",
   "pygments_lexer": "ipython3",
   "version": "3.9.7"
  }
 },
 "nbformat": 4,
 "nbformat_minor": 5
}
